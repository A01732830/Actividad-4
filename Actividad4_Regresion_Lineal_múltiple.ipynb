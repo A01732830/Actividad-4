{
  "nbformat": 4,
  "nbformat_minor": 0,
  "metadata": {
    "colab": {
      "provenance": [],
      "include_colab_link": true
    },
    "kernelspec": {
      "name": "python3",
      "display_name": "Python 3"
    },
    "language_info": {
      "name": "python"
    }
  },
  "cells": [
    {
      "cell_type": "markdown",
      "metadata": {
        "id": "view-in-github",
        "colab_type": "text"
      },
      "source": [
        "<a href=\"https://colab.research.google.com/github/A01732830/Actividad-4/blob/main/Actividad4_Regresion_Lineal_m%C3%BAltiple.ipynb\" target=\"_parent\"><img src=\"https://colab.research.google.com/assets/colab-badge.svg\" alt=\"Open In Colab\"/></a>"
      ]
    },
    {
      "cell_type": "code",
      "execution_count": 4,
      "metadata": {
        "id": "EoUkmPF_inPJ"
      },
      "outputs": [],
      "source": [
        "#Importar librerias \n",
        "import pandas as pd\n",
        "import numpy as np\n",
        "import matplotlib.pyplot as plt"
      ]
    },
    {
      "cell_type": "code",
      "source": [
        "#Cargar archivo csv desde equipo\n",
        "from google.colab import files\n",
        "files.upload()"
      ],
      "metadata": {
        "id": "PcEnEH1hj3BH"
      },
      "execution_count": null,
      "outputs": []
    },
    {
      "cell_type": "code",
      "source": [
        "#Carga desde archivo .csv sin indice\n",
        "data=pd.read_csv(\"microretailer_mit_lift_lab_actualizado.csv\")\n",
        "data.head()"
      ],
      "metadata": {
        "id": "74zJ1uwVP0eL"
      },
      "execution_count": null,
      "outputs": []
    },
    {
      "cell_type": "code",
      "source": [
        "#Rellenamos nulos\n",
        "\n",
        "df =data.fillna(method=\"ffill\")"
      ],
      "metadata": {
        "id": "RKmtBx7-P--2"
      },
      "execution_count": 64,
      "outputs": []
    },
    {
      "cell_type": "markdown",
      "source": [
        "Primer caso"
      ],
      "metadata": {
        "id": "lTGENszhQo3C"
      }
    },
    {
      "cell_type": "code",
      "source": [
        "#Se grafican mapas de dispersión de las variables 3 variables:'alcohol', 'speeding' y 'no_previous' al respecto a la variable \"total\"\n",
        "from turtle import color\n",
        "\n",
        "sns.scatterplot(x='268_number_fridges', y='97_number_of_customers_in_store', color=\"blue\", data=df)\n",
        "sns.scatterplot(x='2_current_permanent_employees', y='97_number_of_customers_in_store', color=\"red\", data=df)"
      ],
      "metadata": {
        "id": "da-D_SqPj92j",
        "outputId": "48145afe-a127-4000-ff67-204a851267d5",
        "colab": {
          "base_uri": "https://localhost:8080/",
          "height": 297
        }
      },
      "execution_count": 65,
      "outputs": [
        {
          "output_type": "execute_result",
          "data": {
            "text/plain": [
              "<matplotlib.axes._subplots.AxesSubplot at 0x7ff6c633c710>"
            ]
          },
          "metadata": {},
          "execution_count": 65
        },
        {
          "output_type": "display_data",
          "data": {
            "text/plain": [
              "<Figure size 432x288 with 1 Axes>"
            ],
            "image/png": "[encoded data removed]"
          },
          "metadata": {
            "needs_background": "light"
          }
        }
      ]
    },
    {
      "cell_type": "code",
      "source": [
        "#Declaramos las variables dependientes e independientes para la regresión lineal\n",
        "Vars_Indep= df[['268_number_fridges', '2_current_permanent_employees']]\n",
        "Var_Dep= df['97_number_of_customers_in_store']"
      ],
      "metadata": {
        "id": "602Na8DgkiA-"
      },
      "execution_count": 66,
      "outputs": []
    },
    {
      "cell_type": "code",
      "source": [
        "#Se define model como la función de regresión lineal\n",
        "from sklearn.linear_model import LinearRegression\n",
        "modelo= LinearRegression()"
      ],
      "metadata": {
        "id": "68_b_d3tkjp2"
      },
      "execution_count": 67,
      "outputs": []
    },
    {
      "cell_type": "code",
      "source": [
        "#Verificamos la función relacionada al modelo\n",
        "type(modelo)"
      ],
      "metadata": {
        "id": "rvB3Af6eklM7",
        "outputId": "7d950e52-3e12-40bc-ee14-bc9e8e917bef",
        "colab": {
          "base_uri": "https://localhost:8080/"
        }
      },
      "execution_count": 68,
      "outputs": [
        {
          "output_type": "execute_result",
          "data": {
            "text/plain": [
              "sklearn.linear_model._base.LinearRegression"
            ]
          },
          "metadata": {},
          "execution_count": 68
        }
      ]
    },
    {
      "cell_type": "code",
      "source": [
        "#Ajustamos el modelo con las variables antes declaradas\n",
        "modelo.fit(X=Vars_Indep, y=Var_Dep)"
      ],
      "metadata": {
        "colab": {
          "base_uri": "https://localhost:8080/"
        },
        "id": "174F-Z1Vko3g",
        "outputId": "e5332afc-b502-4e03-cec0-903f52e9625c"
      },
      "execution_count": 69,
      "outputs": [
        {
          "output_type": "execute_result",
          "data": {
            "text/plain": [
              "LinearRegression()"
            ]
          },
          "metadata": {},
          "execution_count": 69
        }
      ]
    },
    {
      "cell_type": "code",
      "source": [
        "#Verificamos los coeficientes obtenidos para el modelo ajustado\n",
        "modelo.__dict__"
      ],
      "metadata": {
        "id": "sEFI6tAbksOL",
        "outputId": "e7299a8f-16d5-4af0-df39-a8e5bbd69455",
        "colab": {
          "base_uri": "https://localhost:8080/"
        }
      },
      "execution_count": 70,
      "outputs": [
        {
          "output_type": "execute_result",
          "data": {
            "text/plain": [
              "{'fit_intercept': True,\n",
              " 'normalize': 'deprecated',\n",
              " 'copy_X': True,\n",
              " 'n_jobs': None,\n",
              " 'positive': False,\n",
              " 'feature_names_in_': array(['268_number_fridges', '2_current_permanent_employees'],\n",
              "       dtype=object),\n",
              " 'n_features_in_': 2,\n",
              " 'coef_': array([0.21940333, 0.08643882]),\n",
              " '_residues': 974.6744035732634,\n",
              " 'rank_': 2,\n",
              " 'singular_': array([57.49300124, 45.24934577]),\n",
              " 'intercept_': 0.8701012968207573}"
            ]
          },
          "metadata": {},
          "execution_count": 70
        }
      ]
    },
    {
      "cell_type": "code",
      "source": [
        "#Evaluamos la eficiencia del modelo obtenido por medio del coeficiente R2 Determinación\n",
        "modelo.score(Vars_Indep,Var_Dep)"
      ],
      "metadata": {
        "id": "UBSZr6OskyPQ",
        "outputId": "6c8bed7e-b6b1-4281-8f71-beea93e3d102",
        "colab": {
          "base_uri": "https://localhost:8080/"
        }
      },
      "execution_count": 71,
      "outputs": [
        {
          "output_type": "execute_result",
          "data": {
            "text/plain": [
              "0.1109836670964387"
            ]
          },
          "metadata": {},
          "execution_count": 71
        }
      ]
    },
    {
      "cell_type": "markdown",
      "source": [
        "**MODELO PREDICTIVO**\n",
        "\n"
      ],
      "metadata": {
        "id": "kRyasHQXk1rb"
      }
    },
    {
      "cell_type": "code",
      "source": [
        "#Predecimos los valores de total de accidentes a partir de las variables: \"alcohol\", \"speeding\" y \"no_previous\"\n",
        "y_pred= modelo.predict(X=df[['268_number_fridges', '2_current_permanent_employees']])\n",
        "y_pred"
      ],
      "metadata": {
        "id": "qTkUZZS4k5Pu"
      },
      "execution_count": null,
      "outputs": []
    },
    {
      "cell_type": "code",
      "source": [
        "#Insertamos la columna de predicciones en el DataFrame\n",
        "df.insert(0, 'Predicciones', y_pred)\n",
        "df"
      ],
      "metadata": {
        "id": "WKog5ZcplZV_"
      },
      "execution_count": null,
      "outputs": []
    },
    {
      "cell_type": "code",
      "source": [
        "#Visualizamos la gráfica comparativa entre el total real y el total predecido\n",
        "\n",
        "sns.scatterplot(x='268_number_fridges', y='97_number_of_customers_in_store', color=\"blue\", data=df)\n",
        "sns.scatterplot(x='268_number_fridges', y='Predicciones', color=\"red\", data=df)\n",
        "#sns.lineplot(x='268_number_fridges', y='Predicciones', color=\"red\", data=df)"
      ],
      "metadata": {
        "colab": {
          "base_uri": "https://localhost:8080/",
          "height": 297
        },
        "id": "rRiMjyMelf2i",
        "outputId": "7982fb33-cecc-4f34-d5d0-0bff2aa95c96"
      },
      "execution_count": 74,
      "outputs": [
        {
          "output_type": "execute_result",
          "data": {
            "text/plain": [
              "<matplotlib.axes._subplots.AxesSubplot at 0x7ff6c6217f90>"
            ]
          },
          "metadata": {},
          "execution_count": 74
        },
        {
          "output_type": "display_data",
          "data": {
            "text/plain": [
              "<Figure size 432x288 with 1 Axes>"
            ],
            "image/png": "[encoded data removed]"
          },
          "metadata": {
            "needs_background": "light"
          }
        }
      ]
    },
    {
      "cell_type": "code",
      "source": [
        "#Corroboramos cual es el coeficiente de Determinación de nuestro modelo\n",
        "coef_Deter=modelo.score(X=Vars_Indep, y=Var_Dep)\n",
        "coef_Deter"
      ],
      "metadata": {
        "colab": {
          "base_uri": "https://localhost:8080/"
        },
        "id": "VjDPFjA-lkaQ",
        "outputId": "b729035c-5e7a-4589-b7c0-5a71cb438558"
      },
      "execution_count": 75,
      "outputs": [
        {
          "output_type": "execute_result",
          "data": {
            "text/plain": [
              "0.1109836670964387"
            ]
          },
          "metadata": {},
          "execution_count": 75
        }
      ]
    },
    {
      "cell_type": "code",
      "source": [
        "#Corroboramos cual es el coeficiente de Correlación de nuestro modelo\n",
        "coef_Correl=np.sqrt(coef_Deter)\n",
        "coef_Correl"
      ],
      "metadata": {
        "colab": {
          "base_uri": "https://localhost:8080/"
        },
        "id": "nP_-pRkMlmde",
        "outputId": "025a9000-5272-4818-ac3a-dc5fde2aec7e"
      },
      "execution_count": 104,
      "outputs": [
        {
          "output_type": "execute_result",
          "data": {
            "text/plain": [
              "0.333142112463193"
            ]
          },
          "metadata": {},
          "execution_count": 104
        }
      ]
    }
  ]
}