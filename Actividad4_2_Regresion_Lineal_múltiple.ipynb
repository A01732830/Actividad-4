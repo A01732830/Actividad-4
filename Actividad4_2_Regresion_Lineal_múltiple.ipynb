{
  "nbformat": 4,
  "nbformat_minor": 0,
  "metadata": {
    "colab": {
      "provenance": [],
      "include_colab_link": true
    },
    "kernelspec": {
      "name": "python3",
      "display_name": "Python 3"
    },
    "language_info": {
      "name": "python"
    }
  },
  "cells": [
    {
      "cell_type": "markdown",
      "metadata": {
        "id": "view-in-github",
        "colab_type": "text"
      },
      "source": [
        "<a href=\"https://colab.research.google.com/github/A01732830/Actividad-4/blob/main/Actividad4_2_Regresion_Lineal_m%C3%BAltiple.ipynb\" target=\"_parent\"><img src=\"https://colab.research.google.com/assets/colab-badge.svg\" alt=\"Open In Colab\"/></a>"
      ]
    },
    {
      "cell_type": "code",
      "execution_count": 1,
      "metadata": {
        "id": "EoUkmPF_inPJ"
      },
      "outputs": [],
      "source": [
        "#Importar librerias \n",
        "import pandas as pd\n",
        "import numpy as np\n",
        "import matplotlib.pyplot as plt\n",
        "import seaborn as sns"
      ]
    },
    {
      "cell_type": "code",
      "source": [
        "#Cargar archivo csv desde equipo\n",
        "from google.colab import files\n",
        "files.upload()"
      ],
      "metadata": {
        "id": "PcEnEH1hj3BH"
      },
      "execution_count": null,
      "outputs": []
    },
    {
      "cell_type": "code",
      "source": [
        "#Carga desde archivo .csv sin indice\n",
        "data=pd.read_csv(\"microretailer_mit_lift_lab_actualizado.csv\")\n",
        "data.head()"
      ],
      "metadata": {
        "id": "74zJ1uwVP0eL"
      },
      "execution_count": null,
      "outputs": []
    },
    {
      "cell_type": "code",
      "source": [
        "#Rellenamos nulos\n",
        "\n",
        "df =data.fillna(method=\"bfill\")\n",
        "df =data.fillna(method=\"ffill\")"
      ],
      "metadata": {
        "id": "RKmtBx7-P--2"
      },
      "execution_count": 17,
      "outputs": []
    },
    {
      "cell_type": "markdown",
      "source": [
        "Primer caso"
      ],
      "metadata": {
        "id": "lTGENszhQo3C"
      }
    },
    {
      "cell_type": "code",
      "source": [
        "#Se grafican mapas de dispersión de las variables 3 variables:'alcohol', 'speeding' y 'no_previous' al respecto a la variable \"total\"\n",
        "from turtle import color\n",
        "\n",
        "sns.scatterplot(x='4_number_permanent_employees_last_year', y='172_supplier_frequency', color=\"blue\", data=df)\n",
        "sns.scatterplot(x='2_current_permanent_employees', y='172_supplier_frequency', color=\"red\", data=df)"
      ],
      "metadata": {
        "id": "da-D_SqPj92j",
        "outputId": "7d9782b7-cc28-4a13-d19f-06d8eafdf60c",
        "colab": {
          "base_uri": "https://localhost:8080/",
          "height": 297
        }
      },
      "execution_count": 23,
      "outputs": [
        {
          "output_type": "execute_result",
          "data": {
            "text/plain": [
              "<matplotlib.axes._subplots.AxesSubplot at 0x7f521409e3d0>"
            ]
          },
          "metadata": {},
          "execution_count": 23
        },
        {
          "output_type": "display_data",
          "data": {
            "text/plain": [
              "<Figure size 432x288 with 1 Axes>"
            ],
            "image/png": "[encoded data removed]"
          },
          "metadata": {
            "needs_background": "light"
          }
        }
      ]
    },
    {
      "cell_type": "code",
      "source": [
        "#Declaramos las variables dependientes e independientes para la regresión lineal\n",
        "Vars_Indep= df[['4_number_permanent_employees_last_year', '2_current_permanent_employees']]\n",
        "Var_Dep= df['172_supplier_frequency']"
      ],
      "metadata": {
        "id": "602Na8DgkiA-"
      },
      "execution_count": 24,
      "outputs": []
    },
    {
      "cell_type": "code",
      "source": [
        "#Se define model como la función de regresión lineal\n",
        "from sklearn.linear_model import LinearRegression\n",
        "modelo= LinearRegression()"
      ],
      "metadata": {
        "id": "68_b_d3tkjp2"
      },
      "execution_count": 25,
      "outputs": []
    },
    {
      "cell_type": "code",
      "source": [
        "#Verificamos la función relacionada al modelo\n",
        "type(modelo)"
      ],
      "metadata": {
        "id": "rvB3Af6eklM7",
        "outputId": "af07c663-cb41-4982-9d86-712654177921",
        "colab": {
          "base_uri": "https://localhost:8080/"
        }
      },
      "execution_count": 26,
      "outputs": [
        {
          "output_type": "execute_result",
          "data": {
            "text/plain": [
              "sklearn.linear_model._base.LinearRegression"
            ]
          },
          "metadata": {},
          "execution_count": 26
        }
      ]
    },
    {
      "cell_type": "code",
      "source": [
        "#Ajustamos el modelo con las variables antes declaradas\n",
        "modelo.fit(X=Vars_Indep, y=Var_Dep)"
      ],
      "metadata": {
        "colab": {
          "base_uri": "https://localhost:8080/"
        },
        "id": "174F-Z1Vko3g",
        "outputId": "1f790c20-9730-49d6-c4a6-8e9c8bcb8b2c"
      },
      "execution_count": 27,
      "outputs": [
        {
          "output_type": "execute_result",
          "data": {
            "text/plain": [
              "LinearRegression()"
            ]
          },
          "metadata": {},
          "execution_count": 27
        }
      ]
    },
    {
      "cell_type": "code",
      "source": [
        "#Verificamos los coeficientes obtenidos para el modelo ajustado\n",
        "modelo.__dict__"
      ],
      "metadata": {
        "id": "sEFI6tAbksOL",
        "outputId": "084f83bc-820a-404b-c280-7b782a762e0f",
        "colab": {
          "base_uri": "https://localhost:8080/"
        }
      },
      "execution_count": 28,
      "outputs": [
        {
          "output_type": "execute_result",
          "data": {
            "text/plain": [
              "{'fit_intercept': True,\n",
              " 'normalize': 'deprecated',\n",
              " 'copy_X': True,\n",
              " 'n_jobs': None,\n",
              " 'positive': False,\n",
              " 'feature_names_in_': array(['4_number_permanent_employees_last_year',\n",
              "        '2_current_permanent_employees'], dtype=object),\n",
              " 'n_features_in_': 2,\n",
              " 'coef_': array([ 0.07167257, -0.03485462]),\n",
              " '_residues': 1557.086674285376,\n",
              " 'rank_': 2,\n",
              " 'singular_': array([145.52588017,  50.85392052]),\n",
              " 'intercept_': 2.5333499160995703}"
            ]
          },
          "metadata": {},
          "execution_count": 28
        }
      ]
    },
    {
      "cell_type": "code",
      "source": [
        "#Evaluamos la eficiencia del modelo obtenido por medio del coeficiente R2 Determinación\n",
        "modelo.score(Vars_Indep,Var_Dep)"
      ],
      "metadata": {
        "id": "UBSZr6OskyPQ",
        "outputId": "9075cee7-88f0-4c36-fe06-d969f60c5fc4",
        "colab": {
          "base_uri": "https://localhost:8080/"
        }
      },
      "execution_count": 29,
      "outputs": [
        {
          "output_type": "execute_result",
          "data": {
            "text/plain": [
              "0.055341291584613206"
            ]
          },
          "metadata": {},
          "execution_count": 29
        }
      ]
    },
    {
      "cell_type": "markdown",
      "source": [
        "**MODELO PREDICTIVO**\n",
        "\n"
      ],
      "metadata": {
        "id": "kRyasHQXk1rb"
      }
    },
    {
      "cell_type": "code",
      "source": [
        "#Predecimos los valores de total de accidentes a partir de las variables: \"alcohol\", \"speeding\" y \"no_previous\"\n",
        "y_pred= modelo.predict(X=df[['4_number_permanent_employees_last_year', '2_current_permanent_employees']])\n",
        "y_pred"
      ],
      "metadata": {
        "id": "qTkUZZS4k5Pu"
      },
      "execution_count": null,
      "outputs": []
    },
    {
      "cell_type": "code",
      "source": [
        "#Insertamos la columna de predicciones en el DataFrame\n",
        "df.insert(0, 'Predicciones', y_pred)\n",
        "df"
      ],
      "metadata": {
        "id": "WKog5ZcplZV_"
      },
      "execution_count": null,
      "outputs": []
    },
    {
      "cell_type": "code",
      "source": [
        "#Visualizamos la gráfica comparativa entre el total real y el total predecido\n",
        "\n",
        "sns.scatterplot(x='4_number_permanent_employees_last_year', y='172_supplier_frequency', color=\"blue\", data=df)\n",
        "sns.scatterplot(x='4_number_permanent_employees_last_year', y='Predicciones', color=\"red\", data=df)\n",
        "#sns.lineplot(x='268_number_fridges', y='Predicciones', color=\"red\", data=df)"
      ],
      "metadata": {
        "colab": {
          "base_uri": "https://localhost:8080/",
          "height": 297
        },
        "id": "rRiMjyMelf2i",
        "outputId": "7599fd09-f848-4781-a9b0-a6816c301204"
      },
      "execution_count": 35,
      "outputs": [
        {
          "output_type": "execute_result",
          "data": {
            "text/plain": [
              "<matplotlib.axes._subplots.AxesSubplot at 0x7f5213f0bcd0>"
            ]
          },
          "metadata": {},
          "execution_count": 35
        },
        {
          "output_type": "display_data",
          "data": {
            "text/plain": [
              "<Figure size 432x288 with 1 Axes>"
            ],
            "image/png": "[encoded data removed]"
          },
          "metadata": {
            "needs_background": "light"
          }
        }
      ]
    },
    {
      "cell_type": "code",
      "source": [
        "#Corroboramos cual es el coeficiente de Determinación de nuestro modelo\n",
        "coef_Deter=modelo.score(X=Vars_Indep, y=Var_Dep)\n",
        "coef_Deter"
      ],
      "metadata": {
        "colab": {
          "base_uri": "https://localhost:8080/"
        },
        "id": "VjDPFjA-lkaQ",
        "outputId": "722b507c-e2fb-41a2-dc66-a98cf56ff5be"
      },
      "execution_count": 36,
      "outputs": [
        {
          "output_type": "execute_result",
          "data": {
            "text/plain": [
              "0.055341291584613206"
            ]
          },
          "metadata": {},
          "execution_count": 36
        }
      ]
    },
    {
      "cell_type": "code",
      "source": [
        "#Corroboramos cual es el coeficiente de Correlación de nuestro modelo\n",
        "coef_Correl=np.sqrt(coef_Deter)\n",
        "coef_Correl"
      ],
      "metadata": {
        "colab": {
          "base_uri": "https://localhost:8080/"
        },
        "id": "nP_-pRkMlmde",
        "outputId": "e7698a72-82e7-4b10-cde9-cc5b8215ab8c"
      },
      "execution_count": 37,
      "outputs": [
        {
          "output_type": "execute_result",
          "data": {
            "text/plain": [
              "0.2352472987828196"
            ]
          },
          "metadata": {},
          "execution_count": 37
        }
      ]
    }
  ]
}